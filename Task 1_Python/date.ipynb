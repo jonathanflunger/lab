{
 "cells": [
  {
   "cell_type": "code",
   "execution_count": 2,
   "metadata": {},
   "outputs": [],
   "source": [
    "import time"
   ]
  },
  {
   "cell_type": "code",
   "execution_count": 94,
   "metadata": {},
   "outputs": [],
   "source": [
    "time_now = time.time()"
   ]
  },
  {
   "cell_type": "code",
   "execution_count": 96,
   "metadata": {},
   "outputs": [],
   "source": [
    "year_seconds = 60*60*24*365.25\n",
    "month_seconds = 60*60*24*30\n",
    "day_seconds = 60*60*24\n",
    "hour_seconds = 60*60\n",
    "min_seconds = 60\n",
    "\n",
    "months_list = [31,28,31,30,31,30,31,31,30,31,30,31]\n",
    "months_list_leap = [31,29,31,30,31,30,31,31,30,31,30,31]"
   ]
  },
  {
   "cell_type": "code",
   "execution_count": 83,
   "metadata": {},
   "outputs": [
    {
     "name": "stdout",
     "output_type": "stream",
     "text": [
      "2022.0\n"
     ]
    }
   ],
   "source": [
    "year = 1970 + time_now//year_seconds\n",
    "print(year)"
   ]
  },
  {
   "cell_type": "code",
   "execution_count": 84,
   "metadata": {},
   "outputs": [
    {
     "name": "stdout",
     "output_type": "stream",
     "text": [
      "9.0\n"
     ]
    }
   ],
   "source": [
    "month = 1 + (time_now/year_seconds - time_now//year_seconds)*year_seconds//month_seconds\n",
    "print(month)"
   ]
  },
  {
   "cell_type": "code",
   "execution_count": 85,
   "metadata": {},
   "outputs": [
    {
     "name": "stdout",
     "output_type": "stream",
     "text": [
      "12.0\n"
     ]
    }
   ],
   "source": [
    "day = 1 + (time_now/year_seconds - time_now//year_seconds)*year_seconds//day_seconds - sum(months_list[:int(month)-1])\n",
    "print(day)"
   ]
  },
  {
   "cell_type": "code",
   "execution_count": 86,
   "metadata": {},
   "outputs": [],
   "source": [
    "day_rest = 1 + (time_now/year_seconds - time_now//year_seconds)*year_seconds/day_seconds - sum(months_list[:int(month)-1]) - day"
   ]
  },
  {
   "cell_type": "code",
   "execution_count": 87,
   "metadata": {},
   "outputs": [
    {
     "name": "stdout",
     "output_type": "stream",
     "text": [
      "16.0\n"
     ]
    }
   ],
   "source": [
    "hour = 1 + day_rest*day_seconds//hour_seconds\n",
    "print(hour)"
   ]
  },
  {
   "cell_type": "code",
   "execution_count": 89,
   "metadata": {},
   "outputs": [
    {
     "name": "stdout",
     "output_type": "stream",
     "text": [
      "31.0\n"
     ]
    }
   ],
   "source": [
    "min = (1 + day_rest*day_seconds/hour_seconds - hour)*hour_seconds//min_seconds\n",
    "print(min)"
   ]
  },
  {
   "cell_type": "code",
   "execution_count": 93,
   "metadata": {},
   "outputs": [
    {
     "name": "stdout",
     "output_type": "stream",
     "text": [
      "0.37\n"
     ]
    }
   ],
   "source": [
    "sec = round((1 + day_rest*day_seconds/hour_seconds - hour)*hour_seconds/min_seconds - min,2)\n",
    "print(sec)"
   ]
  },
  {
   "cell_type": "code",
   "execution_count": null,
   "metadata": {},
   "outputs": [],
   "source": []
  }
 ],
 "metadata": {
  "kernelspec": {
   "display_name": "Python 3.10.7 64-bit",
   "language": "python",
   "name": "python3"
  },
  "language_info": {
   "codemirror_mode": {
    "name": "ipython",
    "version": 3
   },
   "file_extension": ".py",
   "mimetype": "text/x-python",
   "name": "python",
   "nbconvert_exporter": "python",
   "pygments_lexer": "ipython3",
   "version": "3.10.7"
  },
  "orig_nbformat": 4,
  "vscode": {
   "interpreter": {
    "hash": "0b0fd4633de05edccea65918a8b972faac23e93e000e566af4ebc5a9acb714a9"
   }
  }
 },
 "nbformat": 4,
 "nbformat_minor": 2
}
